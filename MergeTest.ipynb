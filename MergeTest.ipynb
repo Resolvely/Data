-- Count unique UNITIDs in eap_df_clean
SELECT 'eap_df_clean' AS table_name, COUNT(DISTINCT UNITID) AS unique_unitid_count
FROM eap_df_clean;

-- Count unique UNITIDs in effy_df_clean
SELECT 'effy_df_clean' AS table_name, COUNT(DISTINCT UNITID) AS unique_unitid_count
FROM effy_df_clean;

-- Count unique UNITIDs in gr2022_df_clean
SELECT 'gr2022_df_clean' AS table_name, COUNT(DISTINCT UNITID) AS unique_unitid_count
FROM gr2022_df_clean;

-- Count unique UNITIDs in s2022_df_clean
SELECT 's2022_df_clean' AS table_name, COUNT(DISTINCT UNITID) AS unique_unitid_count
FROM s2022_df_clean;

-- Count unique UNITIDs in sfa_df_clean
SELECT 'sfa_df_clean' AS table_name, COUNT(DISTINCT UNITID) AS unique_unitid_count
FROM sfa_df_clean;

-- Step 1: Remove duplicates from each table by keeping only the first row for each UNITID
CREATE OR REPLACE TABLE eap_df_clean AS
WITH ranked_eap AS (
    SELECT *,
           ROW_NUMBER() OVER (PARTITION BY UNITID ORDER BY UNITID) AS rn
    FROM eap_df
)
SELECT *
FROM ranked_eap
WHERE rn = 1;

CREATE OR REPLACE TABLE effy_df_clean AS
WITH ranked_effy AS (
    SELECT *,
           ROW_NUMBER() OVER (PARTITION BY UNITID ORDER BY UNITID) AS rn
    FROM effy_df
)
SELECT *
FROM ranked_effy
WHERE rn = 1;

CREATE OR REPLACE TABLE gr2022_df_clean AS
WITH ranked_gr2022 AS (
    SELECT *,
           ROW_NUMBER() OVER (PARTITION BY UNITID ORDER BY UNITID) AS rn
    FROM gr2022_df
)
SELECT *
FROM ranked_gr2022
WHERE rn = 1;

CREATE OR REPLACE TABLE s2022_df_clean AS
WITH ranked_s2022 AS (
    SELECT *,
           ROW_NUMBER() OVER (PARTITION BY UNITID ORDER BY UNITID) AS rn
    FROM s2022_df
)
SELECT *
FROM ranked_s2022
WHERE rn = 1;

CREATE OR REPLACE TABLE sfa_df_clean AS
WITH ranked_sfa AS (
    SELECT *,
           ROW_NUMBER() OVER (PARTITION BY UNITID ORDER BY UNITID) AS rn
    FROM sfa_df
)
SELECT *
FROM ranked_sfa
WHERE rn = 1;

WITH merged_data AS (
    SELECT 
        effy_df_clean.UNITID AS effy_unitid,  -- Explicitly refer to UNITID from each table
        effy_df_clean.*,                       -- All columns from effy_df_clean
        eap_df_clean.*,                        -- All columns from eap_df_clean
        gr2022_df_clean.*,                    -- All columns from gr2022_df_clean
        s2022_df_clean.*,                     -- All columns from s2022_df_clean
        sfa_df_clean.*                         -- All columns from sfa_df_clean
    FROM 
        effy_df_clean
    LEFT JOIN eap_df_clean ON effy_df_clean.UNITID = eap_df_clean.UNITID
    LEFT JOIN gr2022_df_clean ON effy_df_clean.UNITID = gr2022_df_clean.UNITID
    LEFT JOIN s2022_df_clean ON effy_df_clean.UNITID = s2022_df_clean.UNITID
    LEFT JOIN sfa_df_clean ON effy_df_clean.UNITID = sfa_df_clean.UNITID
)

-- Step 3: Sample 5000 unique UNITID rows
SELECT *
FROM (
    SELECT *,
           ROW_NUMBER() OVER (PARTITION BY effy_unitid ORDER BY RANDOM()) AS sampled_rn  -- Rename 'rn' to 'sampled_rn'
    FROM merged_data
) AS sampled
WHERE sampled_rn = 1
LIMIT 5000;
