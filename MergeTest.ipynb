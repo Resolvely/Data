{
 "cells": [
  {
   "cell_type": "code",
   "execution_count": null,
   "id": "fd06855c",
   "metadata": {},
   "outputs": [],
   "source": [
    "import pandas as pd\n",
    "import os"
   ]
  },
  {
   "cell_type": "code",
   "execution_count": null,
   "id": "c5d6de13",
   "metadata": {},
   "outputs": [],
   "source": [
    "print(os.getcwd())"
   ]
  },
  {
   "cell_type": "code",
   "execution_count": null,
   "id": "835f4193",
   "metadata": {},
   "outputs": [],
   "source": [
    "import pandas as pd\n",
    "\n",
    "# list of files to read\n",
    "files = ['013 effy2022.csv', '065 s 2022_nh.csv', \n",
    "         '069 eap2022.csv', '081 sfa2122.csv', '091 gr2022_pell_ssl.csv']\n",
    "\n",
    "# read all datasets into a list of dataframes\n",
    "dataframes = [pd.read_csv(file, nrows=5000) for file in files]\n"
   ]
  },
  {
   "cell_type": "code",
   "execution_count": null,
   "id": "c0e38f74",
   "metadata": {},
   "outputs": [],
   "source": [
    "# standardize column names across datasets\n",
    "for df in dataframes:\n",
    "    df.columns = df.columns.str.strip().str.lower()  # remove leading/trailing spaces, make all lowercase"
   ]
  },
  {
   "cell_type": "code",
   "execution_count": null,
   "id": "d3fa843a",
   "metadata": {},
   "outputs": [],
   "source": [
    "print(\"merging begin!\")\n",
    "\n",
    "# start with the first dataframe, then merge sequentially with others\n",
    "merged_df = dataframes[0]\n",
    "\n",
    "for df in dataframes[1:]:\n",
    "    merged_df = pd.merge(merged_df, df, on='unitid', how='outer')\n",
    "\n",
    "print(\"merging done!\")\n",
    "print(merged_df)"
   ]
  },
  {
   "cell_type": "code",
   "execution_count": null,
   "id": "87776f02",
   "metadata": {},
   "outputs": [],
   "source": []
  }
 ],
 "metadata": {
  "kernelspec": {
   "display_name": "Python 3",
   "language": "python",
   "name": "python3"
  },
  "language_info": {
   "codemirror_mode": {
    "name": "ipython",
    "version": 3
   },
   "file_extension": ".py",
   "mimetype": "text/x-python",
   "name": "python",
   "nbconvert_exporter": "python",
   "pygments_lexer": "ipython3",
   "version": "3.8.13"
  }
 },
 "nbformat": 4,
 "nbformat_minor": 5
}
