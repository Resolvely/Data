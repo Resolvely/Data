{
 "cells": [
  {
   "cell_type": "markdown",
   "metadata": {},
   "source": [
    "# Combine all files"
   ]
  },
  {
   "cell_type": "code",
   "execution_count": null,
   "metadata": {},
   "outputs": [
    {
     "name": "stdout",
     "output_type": "stream",
     "text": [
      "dict_keys(['Nancy', 'Jose', 'Jessica', 'Keerthi', 'Emmy'])\n"
     ]
    }
   ],
   "source": [
    "import glob\n",
    "import os\n",
    "from typing import Dict, List\n",
    "import pandas as pd\n",
    "from collections import defaultdict\n",
    "\n",
    "# this is only if you have a intermediate folder between the root dir and the cleanedFiles_ ones\n",
    "# directory = 'cleaned_files'\n",
    "subdirectory_prefix = 'cleanedFiles_'\n",
    "subdirectories = [os.path.join(directory, d) for d in os.listdir(directory) if os.path.isdir(os.path.join(directory, d)) and d.startswith(subdirectory_prefix)]\n",
    "dataframes: Dict[str, List[pd.DataFrame]] = defaultdict(list)\n",
    "\n",
    "for subdir in subdirectories:\n",
    "    suffix = subdir.split(subdirectory_prefix)[-1]\n",
    "    csv_files = glob.glob(os.path.join(subdir, '*.csv'))\n",
    "    for file_path in csv_files:\n",
    "        df = pd.read_csv(file_path)\n",
    "        dataframes[suffix].append(df)\n",
    "print(dataframes.keys())"
   ]
  },
  {
   "cell_type": "code",
   "execution_count": 2,
   "metadata": {},
   "outputs": [],
   "source": [
    "def set_index(dfs: list[pd.DataFrame], index_col: str):\n",
    "    return [df.set_index(index_col, sorted=True, drop=False) for df in dfs]\n",
    "\n",
    "def find_common_columns(dfs: list[pd.DataFrame]):\n",
    "    common_columns = set(dfs[0].columns)\n",
    "    for df in dfs[1:]:\n",
    "        common_columns &= set(df.columns)\n",
    "    return list(common_columns)\n",
    "\n",
    "def find_common_columns_two(df1: pd.DataFrame, df2: pd.DataFrame):\n",
    "    return list(set(df1.columns) & set(df2.columns))\n",
    "\n",
    "def merge_two_files(df1: pd.DataFrame, df2:  pd.DataFrame, on: str='UNITID', how:str='inner'):\n",
    "    # merged_df = dd.merge(df1, df2, left_index=True, right_index=True, how='outer')\n",
    "    merged_df = pd.merge(df1, df2, on=on, how=how)\n",
    "    return merged_df\n",
    "\n",
    "def merge_files(dfs: list[pd.DataFrame], on: str='UNITID', how:str='inner'):\n",
    "    if not dfs:  # If no DataFrames are provided, return an empty DataFrame\n",
    "        return pd.DataFrame()\n",
    "    # dfs = set_index(dfs, on)\n",
    "    if len(dfs) == 1:\n",
    "        return dfs[0]\n",
    "    mid = len(dfs) // 2\n",
    "    left_merged = merge_files(dfs[:mid], on=on, how=how)  \n",
    "    right_merged = merge_files(dfs[mid:], on=on, how=how)\n",
    "    return merge_two_files(left_merged, right_merged, on=on, how=how)"
   ]
  },
  {
   "cell_type": "markdown",
   "metadata": {},
   "source": [
    "Jose's Files"
   ]
  },
  {
   "cell_type": "code",
   "execution_count": 3,
   "metadata": {},
   "outputs": [
    {
     "name": "stdout",
     "output_type": "stream",
     "text": [
      "common columns: ['UNITID']\n"
     ]
    }
   ],
   "source": [
    "jose_dfs = dataframes['Jose']\n",
    "common_cols = find_common_columns(jose_dfs)\n",
    "print('common columns:', common_cols)\n",
    "merged_jose_files = merge_files(jose_dfs)\n",
    "# merged_jose_files"
   ]
  },
  {
   "cell_type": "code",
   "execution_count": 5,
   "metadata": {},
   "outputs": [
    {
     "data": {
      "text/html": [
       "<div>\n",
       "<style scoped>\n",
       "    .dataframe tbody tr th:only-of-type {\n",
       "        vertical-align: middle;\n",
       "    }\n",
       "\n",
       "    .dataframe tbody tr th {\n",
       "        vertical-align: top;\n",
       "    }\n",
       "\n",
       "    .dataframe thead th {\n",
       "        text-align: right;\n",
       "    }\n",
       "</style>\n",
       "<table border=\"1\" class=\"dataframe\">\n",
       "  <thead>\n",
       "    <tr style=\"text-align: right;\">\n",
       "      <th></th>\n",
       "      <th>UNITID</th>\n",
       "      <th>STABBR_AK</th>\n",
       "      <th>STABBR_AL</th>\n",
       "      <th>STABBR_AR</th>\n",
       "      <th>STABBR_AS</th>\n",
       "      <th>STABBR_AZ</th>\n",
       "      <th>STABBR_CA</th>\n",
       "      <th>STABBR_CO</th>\n",
       "      <th>STABBR_CT</th>\n",
       "      <th>STABBR_DC</th>\n",
       "      <th>...</th>\n",
       "      <th>COUNTYNM_Yellowstone County</th>\n",
       "      <th>COUNTYNM_Yolo County</th>\n",
       "      <th>COUNTYNM_York County</th>\n",
       "      <th>COUNTYNM_Yuba County</th>\n",
       "      <th>COUNTYNM_Yuma County</th>\n",
       "      <th>CNGDSTCD</th>\n",
       "      <th>LONGITUD</th>\n",
       "      <th>LATITUDE</th>\n",
       "      <th>DFRCGID</th>\n",
       "      <th>DFRCUSCG</th>\n",
       "    </tr>\n",
       "  </thead>\n",
       "  <tbody>\n",
       "    <tr>\n",
       "      <th>0</th>\n",
       "      <td>100654</td>\n",
       "      <td>False</td>\n",
       "      <td>True</td>\n",
       "      <td>False</td>\n",
       "      <td>False</td>\n",
       "      <td>False</td>\n",
       "      <td>False</td>\n",
       "      <td>False</td>\n",
       "      <td>False</td>\n",
       "      <td>False</td>\n",
       "      <td>...</td>\n",
       "      <td>False</td>\n",
       "      <td>False</td>\n",
       "      <td>False</td>\n",
       "      <td>False</td>\n",
       "      <td>False</td>\n",
       "      <td>105</td>\n",
       "      <td>-86.568502</td>\n",
       "      <td>34.783368</td>\n",
       "      <td>107</td>\n",
       "      <td>1</td>\n",
       "    </tr>\n",
       "    <tr>\n",
       "      <th>1</th>\n",
       "      <td>100663</td>\n",
       "      <td>False</td>\n",
       "      <td>True</td>\n",
       "      <td>False</td>\n",
       "      <td>False</td>\n",
       "      <td>False</td>\n",
       "      <td>False</td>\n",
       "      <td>False</td>\n",
       "      <td>False</td>\n",
       "      <td>False</td>\n",
       "      <td>...</td>\n",
       "      <td>False</td>\n",
       "      <td>False</td>\n",
       "      <td>False</td>\n",
       "      <td>False</td>\n",
       "      <td>False</td>\n",
       "      <td>107</td>\n",
       "      <td>-86.799345</td>\n",
       "      <td>33.505697</td>\n",
       "      <td>92</td>\n",
       "      <td>1</td>\n",
       "    </tr>\n",
       "    <tr>\n",
       "      <th>2</th>\n",
       "      <td>100690</td>\n",
       "      <td>False</td>\n",
       "      <td>True</td>\n",
       "      <td>False</td>\n",
       "      <td>False</td>\n",
       "      <td>False</td>\n",
       "      <td>False</td>\n",
       "      <td>False</td>\n",
       "      <td>False</td>\n",
       "      <td>False</td>\n",
       "      <td>...</td>\n",
       "      <td>False</td>\n",
       "      <td>False</td>\n",
       "      <td>False</td>\n",
       "      <td>False</td>\n",
       "      <td>False</td>\n",
       "      <td>102</td>\n",
       "      <td>-86.174010</td>\n",
       "      <td>32.362609</td>\n",
       "      <td>125</td>\n",
       "      <td>2</td>\n",
       "    </tr>\n",
       "    <tr>\n",
       "      <th>3</th>\n",
       "      <td>100706</td>\n",
       "      <td>False</td>\n",
       "      <td>True</td>\n",
       "      <td>False</td>\n",
       "      <td>False</td>\n",
       "      <td>False</td>\n",
       "      <td>False</td>\n",
       "      <td>False</td>\n",
       "      <td>False</td>\n",
       "      <td>False</td>\n",
       "      <td>...</td>\n",
       "      <td>False</td>\n",
       "      <td>False</td>\n",
       "      <td>False</td>\n",
       "      <td>False</td>\n",
       "      <td>False</td>\n",
       "      <td>105</td>\n",
       "      <td>-86.640449</td>\n",
       "      <td>34.724557</td>\n",
       "      <td>92</td>\n",
       "      <td>2</td>\n",
       "    </tr>\n",
       "    <tr>\n",
       "      <th>4</th>\n",
       "      <td>100724</td>\n",
       "      <td>False</td>\n",
       "      <td>True</td>\n",
       "      <td>False</td>\n",
       "      <td>False</td>\n",
       "      <td>False</td>\n",
       "      <td>False</td>\n",
       "      <td>False</td>\n",
       "      <td>False</td>\n",
       "      <td>False</td>\n",
       "      <td>...</td>\n",
       "      <td>False</td>\n",
       "      <td>False</td>\n",
       "      <td>False</td>\n",
       "      <td>False</td>\n",
       "      <td>False</td>\n",
       "      <td>107</td>\n",
       "      <td>-86.295677</td>\n",
       "      <td>32.364317</td>\n",
       "      <td>98</td>\n",
       "      <td>1</td>\n",
       "    </tr>\n",
       "  </tbody>\n",
       "</table>\n",
       "<p>5 rows × 1165 columns</p>\n",
       "</div>"
      ],
      "text/plain": [
       "   UNITID  STABBR_AK  STABBR_AL  STABBR_AR  STABBR_AS  STABBR_AZ  STABBR_CA  \\\n",
       "0  100654      False       True      False      False      False      False   \n",
       "1  100663      False       True      False      False      False      False   \n",
       "2  100690      False       True      False      False      False      False   \n",
       "3  100706      False       True      False      False      False      False   \n",
       "4  100724      False       True      False      False      False      False   \n",
       "\n",
       "   STABBR_CO  STABBR_CT  STABBR_DC  ...  COUNTYNM_Yellowstone County  \\\n",
       "0      False      False      False  ...                        False   \n",
       "1      False      False      False  ...                        False   \n",
       "2      False      False      False  ...                        False   \n",
       "3      False      False      False  ...                        False   \n",
       "4      False      False      False  ...                        False   \n",
       "\n",
       "   COUNTYNM_Yolo County  COUNTYNM_York County  COUNTYNM_Yuba County  \\\n",
       "0                 False                 False                 False   \n",
       "1                 False                 False                 False   \n",
       "2                 False                 False                 False   \n",
       "3                 False                 False                 False   \n",
       "4                 False                 False                 False   \n",
       "\n",
       "   COUNTYNM_Yuma County  CNGDSTCD   LONGITUD   LATITUDE  DFRCGID  DFRCUSCG  \n",
       "0                 False       105 -86.568502  34.783368      107         1  \n",
       "1                 False       107 -86.799345  33.505697       92         1  \n",
       "2                 False       102 -86.174010  32.362609      125         2  \n",
       "3                 False       105 -86.640449  34.724557       92         2  \n",
       "4                 False       107 -86.295677  32.364317       98         1  \n",
       "\n",
       "[5 rows x 1165 columns]"
      ]
     },
     "execution_count": 5,
     "metadata": {},
     "output_type": "execute_result"
    }
   ],
   "source": [
    "jose_dfs[0].head()"
   ]
  },
  {
   "cell_type": "markdown",
   "metadata": {},
   "source": [
    "Keerthi's Files"
   ]
  },
  {
   "cell_type": "code",
   "execution_count": null,
   "metadata": {},
   "outputs": [
    {
     "name": "stdout",
     "output_type": "stream",
     "text": [
      "common columns: ['UNITID']\n"
     ]
    },
    {
     "data": {
      "text/html": [
       "<div>\n",
       "<style scoped>\n",
       "    .dataframe tbody tr th:only-of-type {\n",
       "        vertical-align: middle;\n",
       "    }\n",
       "\n",
       "    .dataframe tbody tr th {\n",
       "        vertical-align: top;\n",
       "    }\n",
       "\n",
       "    .dataframe thead th {\n",
       "        text-align: right;\n",
       "    }\n",
       "</style>\n",
       "<table border=\"1\" class=\"dataframe\">\n",
       "  <thead>\n",
       "    <tr style=\"text-align: right;\">\n",
       "      <th></th>\n",
       "      <th>UNITID</th>\n",
       "      <th>EFCSTATE</th>\n",
       "      <th>LINE</th>\n",
       "      <th>EFRES01</th>\n",
       "      <th>EFRES02</th>\n",
       "    </tr>\n",
       "  </thead>\n",
       "  <tbody>\n",
       "    <tr>\n",
       "      <th>0</th>\n",
       "      <td>110714</td>\n",
       "      <td>5</td>\n",
       "      <td>5</td>\n",
       "      <td>576</td>\n",
       "      <td>415.0</td>\n",
       "    </tr>\n",
       "    <tr>\n",
       "      <th>1</th>\n",
       "      <td>110714</td>\n",
       "      <td>5</td>\n",
       "      <td>5</td>\n",
       "      <td>3</td>\n",
       "      <td>3.0</td>\n",
       "    </tr>\n",
       "    <tr>\n",
       "      <th>2</th>\n",
       "      <td>110714</td>\n",
       "      <td>5</td>\n",
       "      <td>5</td>\n",
       "      <td>2</td>\n",
       "      <td>2.0</td>\n",
       "    </tr>\n",
       "    <tr>\n",
       "      <th>3</th>\n",
       "      <td>110714</td>\n",
       "      <td>5</td>\n",
       "      <td>5</td>\n",
       "      <td>4</td>\n",
       "      <td>4.0</td>\n",
       "    </tr>\n",
       "    <tr>\n",
       "      <th>4</th>\n",
       "      <td>110714</td>\n",
       "      <td>6</td>\n",
       "      <td>6</td>\n",
       "      <td>22</td>\n",
       "      <td>22.0</td>\n",
       "    </tr>\n",
       "  </tbody>\n",
       "</table>\n",
       "</div>"
      ],
      "text/plain": [
       "   UNITID  EFCSTATE  LINE  EFRES01  EFRES02 \n",
       "0  110714         5     5      576     415.0\n",
       "1  110714         5     5        3       3.0\n",
       "2  110714         5     5        2       2.0\n",
       "3  110714         5     5        4       4.0\n",
       "4  110714         6     6       22      22.0"
      ]
     },
     "execution_count": 6,
     "metadata": {},
     "output_type": "execute_result"
    }
   ],
   "source": [
    "keerthi_dfs = dataframes['Keerthi']\n",
    "common_cols = find_common_columns(keerthi_dfs)\n",
    "print('common columns:', common_cols)\n",
    "merged_keerthi_files = merge_files(keerthi_dfs)\n",
    "# merged_keerthi_files"
   ]
  },
  {
   "cell_type": "markdown",
   "metadata": {},
   "source": [
    "Emmy's Files"
   ]
  },
  {
   "cell_type": "code",
   "execution_count": 8,
   "metadata": {},
   "outputs": [
    {
     "name": "stdout",
     "output_type": "stream",
     "text": [
      "common columns: ['UNITID']\n",
      "(8341, 26)\n",
      "(41911, 35)\n",
      "(291935, 13)\n",
      "(1991, 57)\n",
      "(1991, 57)\n",
      "(5709, 323)\n"
     ]
    }
   ],
   "source": [
    "emmy_dfs = dataframes['Emmy']\n",
    "common_cols = find_common_columns(emmy_dfs)\n",
    "print('common columns:', common_cols)\n",
    "for df in emmy_dfs:\n",
    "    print(df.shape)"
   ]
  },
  {
   "cell_type": "code",
   "execution_count": 7,
   "metadata": {},
   "outputs": [
    {
     "name": "stdout",
     "output_type": "stream",
     "text": [
      "common columns: ['UNITID']\n"
     ]
    }
   ],
   "source": [
    "emmy_dfs = dataframes['Emmy']\n",
    "common_cols = find_common_columns(emmy_dfs)\n",
    "print('common columns:', common_cols)\n",
    "merged_emmy_files = merge_files(emmy_dfs)\n",
    "# merged_emmy_files"
   ]
  },
  {
   "cell_type": "markdown",
   "metadata": {},
   "source": [
    "Nancy's Files"
   ]
  },
  {
   "cell_type": "code",
   "execution_count": 5,
   "metadata": {},
   "outputs": [
    {
     "name": "stdout",
     "output_type": "stream",
     "text": [
      "common columns: ['UNITID']\n"
     ]
    }
   ],
   "source": [
    "nancy_dfs = dataframes['Nancy']\n",
    "common_cols = find_common_columns(nancy_dfs)\n",
    "print('common columns:', common_cols)\n",
    "merged_nancy_files = merge_files(nancy_dfs)\n",
    "# merged_nancy_files"
   ]
  },
  {
   "cell_type": "markdown",
   "metadata": {},
   "source": [
    "Jessica's Files"
   ]
  },
  {
   "cell_type": "code",
   "execution_count": 9,
   "metadata": {},
   "outputs": [
    {
     "name": "stdout",
     "output_type": "stream",
     "text": [
      "common columns: ['UNITID']\n",
      "(6005, 41)\n",
      "(116110, 39)\n",
      "(16132, 19)\n",
      "(77996, 13)\n",
      "(244004, 41)\n",
      "(165914, 36)\n",
      "(300877, 34)\n"
     ]
    }
   ],
   "source": [
    "jessica_dfs = dataframes['Jessica']\n",
    "common_cols = find_common_columns(jessica_dfs)\n",
    "print('common columns:', common_cols)\n",
    "for df in jessica_dfs:\n",
    "    print(df.shape)"
   ]
  },
  {
   "cell_type": "code",
   "execution_count": 10,
   "metadata": {},
   "outputs": [
    {
     "name": "stdout",
     "output_type": "stream",
     "text": [
      "common columns: ['UNITID']\n"
     ]
    },
    {
     "ename": "",
     "evalue": "",
     "output_type": "error",
     "traceback": [
      "\u001b[1;31mThe Kernel crashed while executing code in the current cell or a previous cell. \n",
      "\u001b[1;31mPlease review the code in the cell(s) to identify a possible cause of the failure. \n",
      "\u001b[1;31mClick <a href='https://aka.ms/vscodeJupyterKernelCrash'>here</a> for more info. \n",
      "\u001b[1;31mView Jupyter <a href='command:jupyter.viewOutput'>log</a> for further details."
     ]
    }
   ],
   "source": [
    "jessica_dfs = dataframes['Jessica']\n",
    "common_cols = find_common_columns(jessica_dfs)\n",
    "print('common columns:', common_cols)\n",
    "merged_jessica_files = merge_files(jessica_dfs)\n",
    "# merged_jessica_files"
   ]
  },
  {
   "cell_type": "markdown",
   "metadata": {},
   "source": [
    "combine all groups"
   ]
  },
  {
   "cell_type": "code",
   "execution_count": 8,
   "metadata": {},
   "outputs": [],
   "source": [
    "# # Function to merge two DataFrames with unique suffixes\n",
    "# def merge_with_suffixes(df1, df2, suffix1, suffix2):\n",
    "#     # return dd.merge(df1, df2, on='UNITID', suffixes=(suffix1, suffix2))\n",
    "#     return pd.merge(df1, df2, left_index=True, right_index=True, suffixes=(suffix1, suffix2))\n",
    "\n",
    "merged_df = merged_jose_files\n",
    "merged_df = merge_two_files(merged_df, merged_keerthi_files)\n",
    "# merged_df = merge_two_files(merged_df, merged_nancy_files)\n",
    "\n",
    "# merged_df = merge_with_suffixes(merged_df, merged_keerthi_files, '_jose', '_keerthi')\n",
    "# merged_df = merge_with_suffixes(merged_df, merged_emmy_files, '_combined', '_emmy')\n",
    "# merged_df = merge_with_suffixes(merged_df, merged_nancy_files, '_combined', '_nancy')\n",
    "# merged_df = merge_with_suffixes(merged_df, merged_jessica_files, '_combined', '_jessica')"
   ]
  },
  {
   "cell_type": "code",
   "execution_count": 9,
   "metadata": {},
   "outputs": [
    {
     "data": {
      "text/plain": [
       "(0, 2006)"
      ]
     },
     "execution_count": 9,
     "metadata": {},
     "output_type": "execute_result"
    }
   ],
   "source": [
    "merged_df.shape"
   ]
  },
  {
   "cell_type": "code",
   "execution_count": 9,
   "metadata": {},
   "outputs": [
    {
     "data": {
      "text/html": [
       "<div>\n",
       "<style scoped>\n",
       "    .dataframe tbody tr th:only-of-type {\n",
       "        vertical-align: middle;\n",
       "    }\n",
       "\n",
       "    .dataframe tbody tr th {\n",
       "        vertical-align: top;\n",
       "    }\n",
       "\n",
       "    .dataframe thead th {\n",
       "        text-align: right;\n",
       "    }\n",
       "</style>\n",
       "<table border=\"1\" class=\"dataframe\">\n",
       "  <thead>\n",
       "    <tr style=\"text-align: right;\">\n",
       "      <th></th>\n",
       "      <th>UNITID</th>\n",
       "      <th>STABBR_AK</th>\n",
       "      <th>STABBR_AL</th>\n",
       "      <th>STABBR_AR</th>\n",
       "      <th>STABBR_AS</th>\n",
       "      <th>STABBR_AZ</th>\n",
       "      <th>STABBR_CA</th>\n",
       "      <th>STABBR_CO</th>\n",
       "      <th>STABBR_CT</th>\n",
       "      <th>STABBR_DC</th>\n",
       "      <th>...</th>\n",
       "      <th>F1H03B</th>\n",
       "      <th>F1H03C</th>\n",
       "      <th>F1H03D</th>\n",
       "      <th>F1N01</th>\n",
       "      <th>F1N02</th>\n",
       "      <th>F1N03</th>\n",
       "      <th>F1N04</th>\n",
       "      <th>F1N05</th>\n",
       "      <th>F1N06</th>\n",
       "      <th>F1N07</th>\n",
       "    </tr>\n",
       "  </thead>\n",
       "  <tbody>\n",
       "  </tbody>\n",
       "</table>\n",
       "<p>0 rows × 2314 columns</p>\n",
       "</div>"
      ],
      "text/plain": [
       "Empty DataFrame\n",
       "Columns: [UNITID, STABBR_AK, STABBR_AL, STABBR_AR, STABBR_AS, STABBR_AZ, STABBR_CA, STABBR_CO, STABBR_CT, STABBR_DC, STABBR_DE, STABBR_FL, STABBR_FM, STABBR_GA, STABBR_GU, STABBR_HI, STABBR_IA, STABBR_ID, STABBR_IL, STABBR_IN, STABBR_KS, STABBR_KY, STABBR_LA, STABBR_MA, STABBR_MD, STABBR_ME, STABBR_MH, STABBR_MI, STABBR_MN, STABBR_MO, STABBR_MP, STABBR_MS, STABBR_MT, STABBR_NC, STABBR_ND, STABBR_NE, STABBR_NH, STABBR_NJ, STABBR_NM, STABBR_NV, STABBR_NY, STABBR_OH, STABBR_OK, STABBR_OR, STABBR_PA, STABBR_PR, STABBR_PW, STABBR_RI, STABBR_SC, STABBR_SD, STABBR_TN, STABBR_TX, STABBR_UT, STABBR_VA, STABBR_VI, STABBR_VT, STABBR_WA, STABBR_WI, STABBR_WV, STABBR_WY, FIPS, OBEREG, EIN, OPEFLAG, HAS_NPRICURL, HAS_VETURL, HAS_ATHURL, HAS_DISAURL, SECTOR, ICLEVEL, CONTROL, HLOFFER, UGOFFER, GROFFER, HDEGOFR1, DEGGRANT, HBCU, HOSPITAL, MEDICAL, TRIBAL, LOCALE, OPENPUBL, ACT_A , ACT_C , ACT_D , ACT_G , ACT_M , ACT_N , ACT_R , NEWID, DEATHYR, CYACTIVE, POSTSEC, PSEFLAG, PSET4FLG, RPTMTH, INSTCAT, C21BASIC, C21IPUG, C21IPGRD, ...]\n",
       "Index: []\n",
       "\n",
       "[0 rows x 2314 columns]"
      ]
     },
     "execution_count": 9,
     "metadata": {},
     "output_type": "execute_result"
    }
   ],
   "source": [
    "merged_df.head()"
   ]
  },
  {
   "cell_type": "code",
   "execution_count": 12,
   "metadata": {},
   "outputs": [
    {
     "data": {
      "text/html": [
       "<div>\n",
       "<style scoped>\n",
       "    .dataframe tbody tr th:only-of-type {\n",
       "        vertical-align: middle;\n",
       "    }\n",
       "\n",
       "    .dataframe tbody tr th {\n",
       "        vertical-align: top;\n",
       "    }\n",
       "\n",
       "    .dataframe thead th {\n",
       "        text-align: right;\n",
       "    }\n",
       "</style>\n",
       "<table border=\"1\" class=\"dataframe\">\n",
       "  <thead>\n",
       "    <tr style=\"text-align: right;\">\n",
       "      <th></th>\n",
       "      <th>UNITID</th>\n",
       "      <th>F3A01</th>\n",
       "      <th>F3A01B</th>\n",
       "      <th>F3A02</th>\n",
       "      <th>F3A03</th>\n",
       "      <th>F3A04</th>\n",
       "      <th>F3A06</th>\n",
       "      <th>F3A07</th>\n",
       "      <th>F3A10</th>\n",
       "      <th>F3A11</th>\n",
       "      <th>...</th>\n",
       "      <th>F3E074</th>\n",
       "      <th>F3E075</th>\n",
       "      <th>F3E077</th>\n",
       "      <th>F3F03</th>\n",
       "      <th>F3G01</th>\n",
       "      <th>F3G02</th>\n",
       "      <th>F3G03</th>\n",
       "      <th>F3G04</th>\n",
       "      <th>F3G05</th>\n",
       "      <th>F3G07</th>\n",
       "    </tr>\n",
       "  </thead>\n",
       "  <tbody>\n",
       "    <tr>\n",
       "      <th>0</th>\n",
       "      <td>101116</td>\n",
       "      <td>2865382.0</td>\n",
       "      <td>819082.0</td>\n",
       "      <td>338245.0</td>\n",
       "      <td>2527137.0</td>\n",
       "      <td>2865382.0</td>\n",
       "      <td>1247300.0</td>\n",
       "      <td>412894.0</td>\n",
       "      <td>1794934.0</td>\n",
       "      <td>975852.0</td>\n",
       "      <td>...</td>\n",
       "      <td>1396568</td>\n",
       "      <td>234901</td>\n",
       "      <td>2176770</td>\n",
       "      <td>1</td>\n",
       "      <td>-645299.0</td>\n",
       "      <td>5850359.0</td>\n",
       "      <td>2527137.0</td>\n",
       "      <td>2865382.0</td>\n",
       "      <td>954479.0</td>\n",
       "      <td>6495658.0</td>\n",
       "    </tr>\n",
       "    <tr>\n",
       "      <th>1</th>\n",
       "      <td>110468</td>\n",
       "      <td>80416391.0</td>\n",
       "      <td>7623001.0</td>\n",
       "      <td>73504923.0</td>\n",
       "      <td>6911468.0</td>\n",
       "      <td>80416391.0</td>\n",
       "      <td>11146203.0</td>\n",
       "      <td>7420695.0</td>\n",
       "      <td>18771330.0</td>\n",
       "      <td>11148329.0</td>\n",
       "      <td>...</td>\n",
       "      <td>9825401</td>\n",
       "      <td>2213347</td>\n",
       "      <td>26429005</td>\n",
       "      <td>3</td>\n",
       "      <td>83215894.0</td>\n",
       "      <td>83215894.0</td>\n",
       "      <td>6911468.0</td>\n",
       "      <td>80416391.0</td>\n",
       "      <td>6911468.0</td>\n",
       "      <td>87120040.0</td>\n",
       "    </tr>\n",
       "    <tr>\n",
       "      <th>2</th>\n",
       "      <td>133465</td>\n",
       "      <td>6724471.0</td>\n",
       "      <td>3238978.0</td>\n",
       "      <td>2413803.0</td>\n",
       "      <td>4310668.0</td>\n",
       "      <td>6724471.0</td>\n",
       "      <td>4032869.0</td>\n",
       "      <td>1025299.0</td>\n",
       "      <td>5455235.0</td>\n",
       "      <td>2216257.0</td>\n",
       "      <td>...</td>\n",
       "      <td>2629108</td>\n",
       "      <td>733954</td>\n",
       "      <td>3281398</td>\n",
       "      <td>3</td>\n",
       "      <td>-1107368.0</td>\n",
       "      <td>10847804.0</td>\n",
       "      <td>4310668.0</td>\n",
       "      <td>6724471.0</td>\n",
       "      <td>1071690.0</td>\n",
       "      <td>11955172.0</td>\n",
       "    </tr>\n",
       "    <tr>\n",
       "      <th>3</th>\n",
       "      <td>139579</td>\n",
       "      <td>4202808.0</td>\n",
       "      <td>1448699.0</td>\n",
       "      <td>1220910.0</td>\n",
       "      <td>2981898.0</td>\n",
       "      <td>4202808.0</td>\n",
       "      <td>1827016.0</td>\n",
       "      <td>1309866.0</td>\n",
       "      <td>3647213.0</td>\n",
       "      <td>2198514.0</td>\n",
       "      <td>...</td>\n",
       "      <td>2452715</td>\n",
       "      <td>519235</td>\n",
       "      <td>4128318</td>\n",
       "      <td>3</td>\n",
       "      <td>7401619.0</td>\n",
       "      <td>24235006.0</td>\n",
       "      <td>2981898.0</td>\n",
       "      <td>4202808.0</td>\n",
       "      <td>1533199.0</td>\n",
       "      <td>16833387.0</td>\n",
       "    </tr>\n",
       "    <tr>\n",
       "      <th>4</th>\n",
       "      <td>178989</td>\n",
       "      <td>2394425.0</td>\n",
       "      <td>891283.0</td>\n",
       "      <td>1932135.0</td>\n",
       "      <td>462290.0</td>\n",
       "      <td>2394425.0</td>\n",
       "      <td>1202666.0</td>\n",
       "      <td>2149357.0</td>\n",
       "      <td>3352023.0</td>\n",
       "      <td>2460740.0</td>\n",
       "      <td>...</td>\n",
       "      <td>420579</td>\n",
       "      <td>176946</td>\n",
       "      <td>3673010</td>\n",
       "      <td>2</td>\n",
       "      <td>-1019720.0</td>\n",
       "      <td>15173446.0</td>\n",
       "      <td>462290.0</td>\n",
       "      <td>2394425.0</td>\n",
       "      <td>462289.0</td>\n",
       "      <td>16106634.0</td>\n",
       "    </tr>\n",
       "  </tbody>\n",
       "</table>\n",
       "<p>5 rows × 46 columns</p>\n",
       "</div>"
      ],
      "text/plain": [
       "   UNITID       F3A01     F3A01B       F3A02      F3A03       F3A04  \\\n",
       "0  101116   2865382.0   819082.0    338245.0  2527137.0   2865382.0   \n",
       "1  110468  80416391.0  7623001.0  73504923.0  6911468.0  80416391.0   \n",
       "2  133465   6724471.0  3238978.0   2413803.0  4310668.0   6724471.0   \n",
       "3  139579   4202808.0  1448699.0   1220910.0  2981898.0   4202808.0   \n",
       "4  178989   2394425.0   891283.0   1932135.0   462290.0   2394425.0   \n",
       "\n",
       "        F3A06      F3A07       F3A10       F3A11  ...   F3E074   F3E075  \\\n",
       "0   1247300.0   412894.0   1794934.0    975852.0  ...  1396568   234901   \n",
       "1  11146203.0  7420695.0  18771330.0  11148329.0  ...  9825401  2213347   \n",
       "2   4032869.0  1025299.0   5455235.0   2216257.0  ...  2629108   733954   \n",
       "3   1827016.0  1309866.0   3647213.0   2198514.0  ...  2452715   519235   \n",
       "4   1202666.0  2149357.0   3352023.0   2460740.0  ...   420579   176946   \n",
       "\n",
       "     F3E077  F3F03       F3G01       F3G02      F3G03       F3G04      F3G05  \\\n",
       "0   2176770      1   -645299.0   5850359.0  2527137.0   2865382.0   954479.0   \n",
       "1  26429005      3  83215894.0  83215894.0  6911468.0  80416391.0  6911468.0   \n",
       "2   3281398      3  -1107368.0  10847804.0  4310668.0   6724471.0  1071690.0   \n",
       "3   4128318      3   7401619.0  24235006.0  2981898.0   4202808.0  1533199.0   \n",
       "4   3673010      2  -1019720.0  15173446.0   462290.0   2394425.0   462289.0   \n",
       "\n",
       "     F3G07     \n",
       "0   6495658.0  \n",
       "1  87120040.0  \n",
       "2  11955172.0  \n",
       "3  16833387.0  \n",
       "4  16106634.0  \n",
       "\n",
       "[5 rows x 46 columns]"
      ]
     },
     "execution_count": 12,
     "metadata": {},
     "output_type": "execute_result"
    }
   ],
   "source": [
    "nancy_dfs[3].head()"
   ]
  }
 ],
 "metadata": {
  "kernelspec": {
   "display_name": ".venv",
   "language": "python",
   "name": "python3"
  },
  "language_info": {
   "codemirror_mode": {
    "name": "ipython",
    "version": 3
   },
   "file_extension": ".py",
   "mimetype": "text/x-python",
   "name": "python",
   "nbconvert_exporter": "python",
   "pygments_lexer": "ipython3",
   "version": "3.11.10"
  }
 },
 "nbformat": 4,
 "nbformat_minor": 2
}
